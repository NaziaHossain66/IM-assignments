{
  "nbformat": 4,
  "nbformat_minor": 0,
  "metadata": {
    "colab": {
      "name": "Assignment.ipynb",
      "provenance": [],
      "collapsed_sections": [],
      "authorship_tag": "ABX9TyMq1xuTgikuBaZTK/pDynsY",
      "include_colab_link": true
    },
    "kernelspec": {
      "name": "python3",
      "display_name": "Python 3"
    },
    "language_info": {
      "name": "python"
    }
  },
  "cells": [
    {
      "cell_type": "markdown",
      "metadata": {
        "id": "view-in-github",
        "colab_type": "text"
      },
      "source": [
        "<a href=\"https://colab.research.google.com/github/NaziaHossain66/IM-assignments/blob/main/Assignment1/Assignment.ipynb\" target=\"_parent\"><img src=\"https://colab.research.google.com/assets/colab-badge.svg\" alt=\"Open In Colab\"/></a>"
      ]
    },
    {
      "cell_type": "markdown",
      "metadata": {
        "id": "lISeLHSc4UwV"
      },
      "source": [
        "##Report Explaining which of the Following Big O is the Best\n",
        "Big O notation describes the complexity of a code/algorithm by using algebric terms with respect to the number of items or inputs.\n",
        "\n",
        "O(Log(n)) is the least complex among O(logn), O(n), O($n^2$), O($n^3$),O($n^k$). The second least complex is, O(n) as it is a straight line in the form y=mx+c. Then comes the polynomials, the complexity of polynomials inceases as the exponent increases. This is beacause as the exponent increases the curve become steeper.\n",
        "\n",
        "So, the order of complexity from the least to the most is:\n",
        "\n",
        "O(logn)<O(n)<O($n^2$)<O($n^3$)<O($n^k$)\n",
        "\n",
        "Here, K>3\n",
        "\n",
        "\n",
        "\n",
        "\n",
        "\n",
        " "
      ]
    },
    {
      "cell_type": "code",
      "metadata": {
        "id": "WFCH7ur6bEPK"
      },
      "source": [
        "%matplotlib inline\n",
        "import matplotlib.pyplot as plt\n",
        "import numpy as np\n"
      ],
      "execution_count": 1,
      "outputs": []
    },
    {
      "cell_type": "code",
      "metadata": {
        "id": "FloHuPcxcO7U"
      },
      "source": [
        "x=np.linspace(0,7,1000)\n",
        "x2=np.linspace(0.1,7,1000)"
      ],
      "execution_count": 4,
      "outputs": []
    },
    {
      "cell_type": "code",
      "metadata": {
        "colab": {
          "base_uri": "https://localhost:8080/",
          "height": 295
        },
        "id": "ATS6Br7Qb0KH",
        "outputId": "d065e647-eec6-447e-f6d4-ac4728808704"
      },
      "source": [
        "#K=int(input(\"Value of K\"))\n",
        "K=4\n",
        "\n",
        "def a(x):\n",
        "  x=np.log2(x) \n",
        "  return  x\n",
        "\n",
        "def b(x):\n",
        "  x=x \n",
        "  return  x\n",
        "\n",
        "def c(x):\n",
        "  x=x**2\n",
        "  return  x\n",
        "\n",
        "def d(x):\n",
        "  x=x**3 \n",
        "  return  x\n",
        "\n",
        "def e(x,k):\n",
        "  x=np.power(x,K) \n",
        "  return  x\n",
        "\n",
        "plt.plot(x2,a(x2), label=\"O(log(n))\")\n",
        "plt.plot(x,b(x), label=\"O(n)\")\n",
        "plt.plot(x,c(x), label=r\"O(n$^{2}$)\")\n",
        "plt.plot(x,d(x), label=\"O(n$^{3}$)\")\n",
        "plt.plot(x, e(x,K), label=\"O(n$^{k}$)\")\n",
        "plt.ylim(0, 30)\n",
        "plt.title(\"The Big O Notation\")\n",
        "plt.xlabel('n=input')\n",
        "plt.ylabel('Steps')\n",
        "plt.legend()\n",
        "plt.show()\n"
      ],
      "execution_count": 14,
      "outputs": [
        {
          "output_type": "display_data",
          "data": {
            "image/png": "[encoded data removed]",
            "text/plain": [
              "<Figure size 432x288 with 1 Axes>"
            ]
          },
          "metadata": {
            "tags": [],
            "needs_background": "light"
          }
        }
      ]
    },
    {
      "cell_type": "code",
      "metadata": {
        "id": "x7HTSx4AE6uK"
      },
      "source": [
        ""
      ],
      "execution_count": null,
      "outputs": []
    }
  ]
}